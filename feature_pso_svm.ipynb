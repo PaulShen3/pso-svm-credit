{
 "cells": [
  {
   "cell_type": "code",
   "execution_count": 1,
   "id": "ee1a5b19",
   "metadata": {},
   "outputs": [],
   "source": [
    "import pandas as pd\n",
    "import numpy as np\n",
    "import random\n",
    "import csv\n",
    "from sklearn.preprocessing import OneHotEncoder, LabelEncoder\n",
    "from sklearn.preprocessing import StandardScaler\n",
    "from sklearn.model_selection import KFold\n",
    "from sklearn.model_selection import cross_val_score\n",
    "from sklearn import model_selection\n",
    "from sklearn import metrics\n",
    "from sklearn import svm\n",
    "from time import time\n",
    "from sklearn.metrics import classification_report, confusion_matrix\n",
    "import matplotlib.pyplot as plt\n",
    "import math\n",
    "import random\n",
    "from imblearn.over_sampling import SMOTE\n",
    "import warnings\n",
    "warnings.filterwarnings('ignore')"
   ]
  },
  {
   "cell_type": "code",
   "execution_count": 2,
   "id": "f691d4e5",
   "metadata": {},
   "outputs": [],
   "source": [
    "X_train = pd.read_csv(\"X_train.csv\")\n",
    "X_test = pd.read_csv(\"X_test.csv\")\n",
    "y_train = pd.read_csv(\"y_train.csv\")\n",
    "y_test = pd.read_csv(\"y_test.csv\")"
   ]
  },
  {
   "cell_type": "code",
   "execution_count": 3,
   "id": "f686a307",
   "metadata": {},
   "outputs": [
    {
     "data": {
      "text/html": [
       "<div>\n",
       "<style scoped>\n",
       "    .dataframe tbody tr th:only-of-type {\n",
       "        vertical-align: middle;\n",
       "    }\n",
       "\n",
       "    .dataframe tbody tr th {\n",
       "        vertical-align: top;\n",
       "    }\n",
       "\n",
       "    .dataframe thead th {\n",
       "        text-align: right;\n",
       "    }\n",
       "</style>\n",
       "<table border=\"1\" class=\"dataframe\">\n",
       "  <thead>\n",
       "    <tr style=\"text-align: right;\">\n",
       "      <th></th>\n",
       "      <th>Unnamed: 0</th>\n",
       "      <th>Month</th>\n",
       "      <th>Age</th>\n",
       "      <th>Occupation</th>\n",
       "      <th>Annual_Income</th>\n",
       "      <th>Monthly_Inhand_Salary</th>\n",
       "      <th>Num_Bank_Accounts</th>\n",
       "      <th>Num_Credit_Card</th>\n",
       "      <th>Interest_Rate</th>\n",
       "      <th>Num_of_Loan</th>\n",
       "      <th>...</th>\n",
       "      <th>Changed_Credit_Limit</th>\n",
       "      <th>Num_Credit_Inquiries</th>\n",
       "      <th>Credit_Mix</th>\n",
       "      <th>Outstanding</th>\n",
       "      <th>Credit_Utilization_Ratio</th>\n",
       "      <th>Credit_History_Age</th>\n",
       "      <th>Payment_of_Min_Amount</th>\n",
       "      <th>Total_EMI_per_month</th>\n",
       "      <th>Amount_invested_monthly</th>\n",
       "      <th>Monthly_Balance</th>\n",
       "    </tr>\n",
       "  </thead>\n",
       "  <tbody>\n",
       "    <tr>\n",
       "      <th>0</th>\n",
       "      <td>9233</td>\n",
       "      <td>1</td>\n",
       "      <td>38</td>\n",
       "      <td>13</td>\n",
       "      <td>8475.64</td>\n",
       "      <td>794.303333</td>\n",
       "      <td>10</td>\n",
       "      <td>10</td>\n",
       "      <td>22</td>\n",
       "      <td>3</td>\n",
       "      <td>...</td>\n",
       "      <td>5.76</td>\n",
       "      <td>11.0</td>\n",
       "      <td>0</td>\n",
       "      <td>2033.14</td>\n",
       "      <td>36.940310</td>\n",
       "      <td>123</td>\n",
       "      <td>2</td>\n",
       "      <td>12.792123</td>\n",
       "      <td>98.348957</td>\n",
       "      <td>258.289254</td>\n",
       "    </tr>\n",
       "    <tr>\n",
       "      <th>1</th>\n",
       "      <td>1616</td>\n",
       "      <td>1</td>\n",
       "      <td>26</td>\n",
       "      <td>4</td>\n",
       "      <td>18115.21</td>\n",
       "      <td>1327.600833</td>\n",
       "      <td>9</td>\n",
       "      <td>8</td>\n",
       "      <td>18</td>\n",
       "      <td>6</td>\n",
       "      <td>...</td>\n",
       "      <td>9.18</td>\n",
       "      <td>11.0</td>\n",
       "      <td>2</td>\n",
       "      <td>1440.76</td>\n",
       "      <td>36.856242</td>\n",
       "      <td>233</td>\n",
       "      <td>2</td>\n",
       "      <td>62.846716</td>\n",
       "      <td>46.329711</td>\n",
       "      <td>313.583656</td>\n",
       "    </tr>\n",
       "    <tr>\n",
       "      <th>2</th>\n",
       "      <td>2846</td>\n",
       "      <td>0</td>\n",
       "      <td>51</td>\n",
       "      <td>10</td>\n",
       "      <td>31534.94</td>\n",
       "      <td>2426.911667</td>\n",
       "      <td>5</td>\n",
       "      <td>6</td>\n",
       "      <td>1</td>\n",
       "      <td>0</td>\n",
       "      <td>...</td>\n",
       "      <td>5.99</td>\n",
       "      <td>4.0</td>\n",
       "      <td>1</td>\n",
       "      <td>1258.83</td>\n",
       "      <td>26.974031</td>\n",
       "      <td>354</td>\n",
       "      <td>1</td>\n",
       "      <td>0.000000</td>\n",
       "      <td>25.088514</td>\n",
       "      <td>457.602652</td>\n",
       "    </tr>\n",
       "  </tbody>\n",
       "</table>\n",
       "<p>3 rows × 22 columns</p>\n",
       "</div>"
      ],
      "text/plain": [
       "   Unnamed: 0  Month  Age  Occupation  Annual_Income  Monthly_Inhand_Salary  \\\n",
       "0        9233      1   38          13        8475.64             794.303333   \n",
       "1        1616      1   26           4       18115.21            1327.600833   \n",
       "2        2846      0   51          10       31534.94            2426.911667   \n",
       "\n",
       "   Num_Bank_Accounts  Num_Credit_Card  Interest_Rate  Num_of_Loan  ...  \\\n",
       "0                 10               10             22            3  ...   \n",
       "1                  9                8             18            6  ...   \n",
       "2                  5                6              1            0  ...   \n",
       "\n",
       "   Changed_Credit_Limit  Num_Credit_Inquiries  Credit_Mix  Outstanding  \\\n",
       "0                  5.76                  11.0           0      2033.14   \n",
       "1                  9.18                  11.0           2      1440.76   \n",
       "2                  5.99                   4.0           1      1258.83   \n",
       "\n",
       "   Credit_Utilization_Ratio  Credit_History_Age  Payment_of_Min_Amount  \\\n",
       "0                 36.940310                 123                      2   \n",
       "1                 36.856242                 233                      2   \n",
       "2                 26.974031                 354                      1   \n",
       "\n",
       "   Total_EMI_per_month  Amount_invested_monthly  Monthly_Balance  \n",
       "0            12.792123                98.348957       258.289254  \n",
       "1            62.846716                46.329711       313.583656  \n",
       "2             0.000000                25.088514       457.602652  \n",
       "\n",
       "[3 rows x 22 columns]"
      ]
     },
     "execution_count": 3,
     "metadata": {},
     "output_type": "execute_result"
    }
   ],
   "source": [
    "X_train.head(3)"
   ]
  },
  {
   "cell_type": "code",
   "execution_count": 4,
   "id": "0a75bbb8",
   "metadata": {},
   "outputs": [],
   "source": [
    "X_train = X_train.drop(columns = ['Unnamed: 0'],axis=1)\n",
    "X_test = X_test.drop(columns = ['Unnamed: 0'],axis=1)\n",
    "y_train = y_train.drop(columns = ['Unnamed: 0'],axis=1)\n",
    "y_test = y_test.drop(columns = ['Unnamed: 0'],axis=1)"
   ]
  },
  {
   "cell_type": "code",
   "execution_count": 5,
   "id": "edc3e4b5",
   "metadata": {},
   "outputs": [
    {
     "name": "stdout",
     "output_type": "stream",
     "text": [
      "模型在测试集的预测准确率：\n",
      " 0.9100990134994379\n"
     ]
    }
   ],
   "source": [
    "from sklearn import ensemble\n",
    "\n",
    "#构建随机森林\n",
    "RF_class = ensemble.RandomForestClassifier(n_estimators=200,random_state = 42)\n",
    "\n",
    "#随机森林的拟合\n",
    "RF_class.fit(X_train,y_train)\n",
    "\n",
    "#模型在测试集上的预测\n",
    "RFclass_pred = RF_class.predict(X_test)\n",
    "\n",
    "#模型的准确率\n",
    "print(\"模型在测试集的预测准确率：\\n\",metrics.roc_auc_score(y_test,RFclass_pred))"
   ]
  },
  {
   "cell_type": "code",
   "execution_count": 6,
   "id": "0773ee25",
   "metadata": {},
   "outputs": [
    {
     "data": {
      "image/png": "[encoded data removed]",
      "text/plain": [
       "<Figure size 432x288 with 1 Axes>"
      ]
     },
     "metadata": {
      "needs_background": "light"
     },
     "output_type": "display_data"
    }
   ],
   "source": [
    "y_score = RF_class.predict_proba(X_test)[:,1]\n",
    "fpr,tpr,threshold = metrics.roc_curve(y_test,y_score)\n",
    "\n",
    "#计算AUC值\n",
    "roc_auc = metrics.auc(fpr,tpr)\n",
    "#绘制面积图\n",
    "plt.stackplot(fpr,tpr,color='steelblue',alpha=0.5,edgecolor='black')\n",
    "\n",
    "#添加边际线和对角线\n",
    "plt.plot(fpr,tpr,color = 'black',lw = 1)\n",
    "plt.plot([0,1],[0,1],color = 'red',linestyle = '--')\n",
    "\n",
    "#添加文本信息\n",
    "plt.text(0.5,0.3,'ROC curve (area = %0.2f)'%roc_auc)\n",
    "\n",
    "#添加x轴和y轴标签\n",
    "plt.xlabel('1-Specificity')\n",
    "plt.ylabel('Sensitivity')\n",
    "\n",
    "plt.show()"
   ]
  },
  {
   "cell_type": "code",
   "execution_count": 7,
   "id": "f7e509a5",
   "metadata": {},
   "outputs": [
    {
     "data": {
      "image/png": "[encoded data removed]",
      "text/plain": [
       "<Figure size 432x288 with 1 Axes>"
      ]
     },
     "metadata": {
      "needs_background": "light"
     },
     "output_type": "display_data"
    }
   ],
   "source": [
    "#变量的重要性程度值\n",
    "importance = RF_class.feature_importances_\n",
    "\n",
    "#构建含序列用于绘图\n",
    "Impt_Series = pd.Series(importance,index = X_train.columns)\n",
    "\n",
    "#对序列排序绘图\n",
    "Impt_Series.sort_values(ascending = True).plot(kind = 'barh')\n",
    "plt.show()"
   ]
  },
  {
   "cell_type": "code",
   "execution_count": 8,
   "id": "715c0478",
   "metadata": {},
   "outputs": [],
   "source": [
    "features = pd.DataFrame(Impt_Series.sort_values(ascending = True))"
   ]
  },
  {
   "cell_type": "code",
   "execution_count": 9,
   "id": "34f4cf50",
   "metadata": {},
   "outputs": [],
   "source": [
    "features = features.head(5)"
   ]
  },
  {
   "cell_type": "code",
   "execution_count": 10,
   "id": "f6118b3b",
   "metadata": {},
   "outputs": [
    {
     "data": {
      "text/html": [
       "<div>\n",
       "<style scoped>\n",
       "    .dataframe tbody tr th:only-of-type {\n",
       "        vertical-align: middle;\n",
       "    }\n",
       "\n",
       "    .dataframe tbody tr th {\n",
       "        vertical-align: top;\n",
       "    }\n",
       "\n",
       "    .dataframe thead th {\n",
       "        text-align: right;\n",
       "    }\n",
       "</style>\n",
       "<table border=\"1\" class=\"dataframe\">\n",
       "  <thead>\n",
       "    <tr style=\"text-align: right;\">\n",
       "      <th></th>\n",
       "      <th>0</th>\n",
       "    </tr>\n",
       "  </thead>\n",
       "  <tbody>\n",
       "    <tr>\n",
       "      <th>Month</th>\n",
       "      <td>0.010833</td>\n",
       "    </tr>\n",
       "    <tr>\n",
       "      <th>Occupation</th>\n",
       "      <td>0.017621</td>\n",
       "    </tr>\n",
       "    <tr>\n",
       "      <th>Credit_Utilization_Ratio</th>\n",
       "      <td>0.020851</td>\n",
       "    </tr>\n",
       "    <tr>\n",
       "      <th>Age</th>\n",
       "      <td>0.021375</td>\n",
       "    </tr>\n",
       "    <tr>\n",
       "      <th>Monthly_Balance</th>\n",
       "      <td>0.022468</td>\n",
       "    </tr>\n",
       "  </tbody>\n",
       "</table>\n",
       "</div>"
      ],
      "text/plain": [
       "                                 0\n",
       "Month                     0.010833\n",
       "Occupation                0.017621\n",
       "Credit_Utilization_Ratio  0.020851\n",
       "Age                       0.021375\n",
       "Monthly_Balance           0.022468"
      ]
     },
     "execution_count": 10,
     "metadata": {},
     "output_type": "execute_result"
    }
   ],
   "source": [
    "features"
   ]
  },
  {
   "cell_type": "code",
   "execution_count": null,
   "id": "e747f195",
   "metadata": {},
   "outputs": [],
   "source": []
  }
 ],
 "metadata": {
  "kernelspec": {
   "display_name": "Python 3 (ipykernel)",
   "language": "python",
   "name": "python3"
  },
  "language_info": {
   "codemirror_mode": {
    "name": "ipython",
    "version": 3
   },
   "file_extension": ".py",
   "mimetype": "text/x-python",
   "name": "python",
   "nbconvert_exporter": "python",
   "pygments_lexer": "ipython3",
   "version": "3.9.12"
  }
 },
 "nbformat": 4,
 "nbformat_minor": 5
}
